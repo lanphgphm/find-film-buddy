{
  "nbformat": 4,
  "nbformat_minor": 0,
  "metadata": {
    "colab": {
      "provenance": [],
      "collapsed_sections": [
        "veQC-2TRwi72",
        "RbpfmucwkR9T",
        "vCgP34RbM4mO",
        "fgCPiNKKkola",
        "HBRr3nw5wKbU"
      ]
    },
    "kernelspec": {
      "name": "python3",
      "display_name": "Python 3"
    },
    "language_info": {
      "name": "python"
    }
  },
  "cells": [
    {
      "cell_type": "code",
      "execution_count": null,
      "metadata": {
        "id": "E_3GHpZVQzKR"
      },
      "outputs": [],
      "source": [
        "#@title Importing necessary libraries\n",
        "import numpy as np\n",
        "import pandas as pd\n",
        "import math\n",
        "import random"
      ]
    },
    {
      "cell_type": "code",
      "source": [
        "#@title Generate Test Case\n",
        "def generate_with_density(n_users: int, n_movies: int, density=0.5):\n",
        "  '''\n",
        "  This function generates matrices of given shape and density. The density is\n",
        "  not exact, but close to the desired level. Output matrix is roughy as dense\n",
        "  as we want it to be.\n",
        "\n",
        "  A matrix with density of 30% means there are 30% actual numerical entries,\n",
        "  and 70% are NaN values.\n",
        "\n",
        "  Input:\n",
        "  ------\n",
        "    n_users, n_movies: int\n",
        "      the shape of the matrix, n rows x m columns\n",
        "\n",
        "    density (optional, default is 0.5): float\n",
        "      given value must be between 0 and 1 (inclusive). a density of 0.3 means\n",
        "      ~ 30% of the matrix is numerical value. a density of 1 means the matrix\n",
        "      has nearly no NaN value.\n",
        "\n",
        "  Output:\n",
        "  ------\n",
        "    A matrix (type: pandas DataFrame) of size (n_users x n_movies) with density roughly the same as\n",
        "    specified value\n",
        "\n",
        "  '''\n",
        "  if (density < 0) or (density > 1):\n",
        "    raise TypeError(\"Density must be a floating point value from 0 to 1 (inclusive)\")\n",
        "\n",
        "  # number of non-NaN values\n",
        "  number_entry = int(round(density * n_users * n_movies))\n",
        "\n",
        "  # generate a full nan matrix & convert to numpy array\n",
        "  M = []\n",
        "  nan_array = [np.nan] * n_movies\n",
        "  for i in range(n_users):\n",
        "    M.append(nan_array)\n",
        "  matrix = np.asarray(M)\n",
        "\n",
        "  # getting random entry index & replace it with numerical value\n",
        "  row_idx = [*range(n_users)]\n",
        "  col_idx = [*range(n_movies)]\n",
        "  ratings = [*range(1,11)]\n",
        "  for i in range(number_entry):\n",
        "    rand_row = random.choice(row_idx)\n",
        "    rand_col = random.choice(col_idx)\n",
        "    matrix[rand_row, rand_col] = random.choice(ratings)\n",
        "\n",
        "  headers = list()\n",
        "  for i in range(n_movies):\n",
        "    movie = \"movie \" + str(i)\n",
        "    headers.append(movie)\n",
        "\n",
        "\n",
        "  matrix = pd.DataFrame(matrix, columns=headers)\n",
        "  return matrix"
      ],
      "metadata": {
        "id": "DQ-GRUbev_fY"
      },
      "execution_count": null,
      "outputs": []
    },
    {
      "cell_type": "markdown",
      "source": [
        "## Problem: Movie Suggestion"
      ],
      "metadata": {
        "id": "veQC-2TRwi72"
      }
    },
    {
      "cell_type": "markdown",
      "source": [
        "### Subprolem 1: A submatrix contains no N/A values"
      ],
      "metadata": {
        "id": "RbpfmucwkR9T"
      }
    },
    {
      "cell_type": "code",
      "source": [
        "#@title Preprocessing\n",
        "def user_threshold(M, m0):\n",
        "  \"\"\"\n",
        "  This program selects all users who have watched at least m0 movies.\n",
        "\n",
        "  Input\n",
        "  ------\n",
        "    M : pandas DataFrame (2D array)\n",
        "        Movie rating matrix, each row is one user, each column is one movie.\n",
        "    m0 :int\n",
        "        Number of minimum movie each selected user have to watch.\n",
        "\n",
        "  Output\n",
        "  ------\n",
        "    A submatrix (type: pandas DataFrame) where no user has watched less than m0 movies.\n",
        "\n",
        "  Time complexity: Θ(n x m)\n",
        "\n",
        "  \"\"\"\n",
        "  n_users = M.shape[0]\n",
        "  n_movies = M.shape[1]\n",
        "\n",
        "  # list to store index of users watched at least m0 movies\n",
        "  valid = list()\n",
        "\n",
        "  # count number of movies watched by each user\n",
        "  for user in range(n_users):\n",
        "    watched = 0\n",
        "    for movie in range(n_movies):\n",
        "      if not np.isnan(M.iloc[user, movie]):\n",
        "        watched += 1\n",
        "\n",
        "    # remember users watched at least m0 movies\n",
        "    if watched >= m0:\n",
        "      valid.append(user)\n",
        "\n",
        "  subM = M.iloc[valid,:]\n",
        "\n",
        "  return subM"
      ],
      "metadata": {
        "id": "vYPViQCXyqdJ",
        "cellView": "form"
      },
      "execution_count": null,
      "outputs": []
    },
    {
      "cell_type": "code",
      "source": [
        "#@title Sub-prolem 1\n",
        "def subproblem1(M):\n",
        "  \"\"\"\n",
        "  This program finds a submatrix with no NaN value and at least m0 columns. A\n",
        "  random user who has watched at least m0 films is selected, then find all users\n",
        "  who have watched the same films as the randomized user.\n",
        "\n",
        "  Input\n",
        "  ------\n",
        "    M : pandas DataFrame (2D array)\n",
        "        Preprocessed matrix using user_theshold() function.\n",
        "\n",
        "  Output\n",
        "  ------\n",
        "    A submatrix (type: pandas DataFrame) with no NaN value and at least m0 columns.\n",
        "\n",
        "  Time complexity: O(n x m)\n",
        "  \"\"\"\n",
        "  n_users = M.shape[0]\n",
        "  n_movies = M.shape[1]\n",
        "  # randomize an user among those watched at least m0 movies\n",
        "  standard_user = random.randrange(0, n_users)\n",
        "\n",
        "  # find the index of movies that standard_user has watched\n",
        "  standard_movies_i = list()\n",
        "  for movie in range(n_movies):\n",
        "    rating = M.iloc[standard_user, movie]\n",
        "    if not np.isnan(rating):\n",
        "      standard_movies_i.append(movie)\n",
        "\n",
        "  # find all users who have watched the same movies as standard_user\n",
        "  valid_users = list()\n",
        "  for user in range(n_users):\n",
        "    movies_rating = M.iloc[user, standard_movies_i]\n",
        "\n",
        "    valid = True\n",
        "    for rating in movies_rating: # worst case: standard_movies_rating = n_movies\n",
        "      if np.isnan(rating):\n",
        "        valid = False\n",
        "        continue\n",
        "\n",
        "    if valid:\n",
        "      valid_users.append(user)\n",
        "\n",
        "  subM = M.iloc[valid_users, standard_movies_i]\n",
        "\n",
        "  return subM"
      ],
      "metadata": {
        "id": "_Ay_VZma0lid",
        "cellView": "form"
      },
      "execution_count": null,
      "outputs": []
    },
    {
      "cell_type": "markdown",
      "source": [
        "### Sub-problem 2: The largest submatrix contains no pair-wise correlation coefficient < $\\delta$\n",
        "- **Input:** A dense matrix $M$: each row is movie ratings of 1 user, each column is a movie.\n",
        "- **Output:** A sub-matrix of the given matrix $M$ where there is no pair-wise Correlation Coefficient < $\\delta$"
      ],
      "metadata": {
        "id": "vCgP34RbM4mO"
      }
    },
    {
      "cell_type": "code",
      "source": [
        "#@title Produce Correlation Coefficient Matrix\n",
        "def corr_coef(M, delta=None, boolean=False):\n",
        "  \"\"\"\n",
        "  This function produces a pair-wise Correlation Coefficient matrix. Input\n",
        "  matrix should not contain any NaN entry.\n",
        "\n",
        "  In order for the function to return a boolean correlation matrix:\n",
        "  - The `dela` parameter must be between 1 and -1 (inclusive).\n",
        "  - The `boolean` parameter must be set as `True`.\n",
        "\n",
        "  Input\n",
        "  ------\n",
        "    matrix: pandas DataFrame (2D array)\n",
        "      A dense matrix where each row is movie ratings of an user, and\n",
        "      each column is a movie.\n",
        "\n",
        "    delta : float (Optional, default=None)\n",
        "      A value between - and -1 (inclusive) must be given to be the\n",
        "      correlation threshold.\n",
        "\n",
        "    boolean:bool (Optional, default=False)\n",
        "      Set to True if desired output is a correlation matrix where each\n",
        "      entry has been compared with `delta`.\n",
        "\n",
        "  Output\n",
        "  ------\n",
        "    If boolean=False:\n",
        "      Return correlation matrix (type: numpy array) of the rows of input matrix. The Pearson correlation\n",
        "      coefficient is calculated based on `corrcoef` method of Numpy. For more information,\n",
        "      see https://numpy.org/doc/stable/reference/generated/numpy.corrcoef.html\n",
        "\n",
        "    If boolean=True:\n",
        "      A nxn matrix (type: numpy array) of boolean entries. If entry at position i-j in the output\n",
        "      matrix is True, row i and row j in the input matrix has correlation coefficient\n",
        "      >= delta. If i-j entry is False, row i and row j of input matrix has correlation\n",
        "      coefficient < delta.\n",
        "\n",
        "  Time complexity: O(n^2 x m)\n",
        "\n",
        "  \"\"\"\n",
        "  matrix = M.to_numpy()\n",
        "  corr_matrix = np.corrcoef(matrix) # time complexity of np.corrcoef() is (assumed to be) O(n^2 x m)\n",
        "  if delta is not None:\n",
        "    bool_matrix = corr_matrix >= delta\n",
        "\n",
        "  if boolean:\n",
        "    return bool_matrix\n",
        "  else:\n",
        "    return corr_matrix"
      ],
      "metadata": {
        "id": "R2dfNzXIqoES",
        "cellView": "form"
      },
      "execution_count": null,
      "outputs": []
    },
    {
      "cell_type": "code",
      "source": [
        "#@title Count the number of pair-wise Corr Coefs which are below `delta` of each user\n",
        "\n",
        "def count_false(bool_matrix):\n",
        "  \"\"\"\n",
        "  Count number of false (pairwise correlation coefficient < delta) for each user.\n",
        "\n",
        "  Input\n",
        "  ------\n",
        "    bool_matrix: numpy array (2D array)\n",
        "      A nxn square boolean matrix.\n",
        "\n",
        "  Output\n",
        "  ------\n",
        "    A list contains n elements where each element is the number of cases\n",
        "    that violate the correlation coefficient constraint (as False in the input matrix).\n",
        "\n",
        "  Time complexity: Θ(n^2)\n",
        "  \"\"\"\n",
        "  n = bool_matrix.shape[0]\n",
        "  lst = list()\n",
        "  for i in range(n): # for each user\n",
        "    this_row = bool_matrix[i]\n",
        "    count = 0\n",
        "\n",
        "    # iterate over current user's boolean pair-wise correlation coefficients\n",
        "    for j in range(n):\n",
        "      if not this_row[j]:\n",
        "        count += 1\n",
        "    lst.append(count)\n",
        "\n",
        "  return lst"
      ],
      "metadata": {
        "id": "6XEbmBv_mlN8",
        "cellView": "form"
      },
      "execution_count": null,
      "outputs": []
    },
    {
      "cell_type": "code",
      "source": [
        "#@title Check if the boolean matrix has no False entry\n",
        "def check_if_valid(lst):\n",
        "  \"\"\"\n",
        "  Check if the current matrix has no correlation coefficients below the\n",
        "  threshold sigma (or no \"False\" entry in boolean correlation matrix)\n",
        "\n",
        "  Input\n",
        "  ------\n",
        "    lst:  list (1D array)\n",
        "    A list storing number of False entries in each row of the boolean\n",
        "    correlation matrix.\n",
        "\n",
        "  Output\n",
        "  ------\n",
        "    Returns True if no user pairs violate the correlation coefficient constraint.\n",
        "    Return False otherwise.\n",
        "\n",
        "  Time complexity: Θ(n)\n",
        "  \"\"\"\n",
        "  n = len(lst)\n",
        "\n",
        "  for i in range(n):\n",
        "    if lst[i] != 0:\n",
        "      return False\n",
        "\n",
        "  return True"
      ],
      "metadata": {
        "id": "RvFV3VhlvJEw",
        "cellView": "form"
      },
      "execution_count": null,
      "outputs": []
    },
    {
      "cell_type": "code",
      "source": [
        "#@title Eliminate the user who has the largest number of pair-wise Corr Coefs below `delta`\n",
        "def del_max_false(M, corr_matrix_bool, false_lst): # O(n)\n",
        "  \"\"\"\n",
        "  This function eliminate the user who has the largest number of False\n",
        "  correlation coefficient.\n",
        "\n",
        "  Input\n",
        "  ------\n",
        "    M: pandas DataFrame (2D array)\n",
        "       Movie rating matrix, each row is one user, each column is one movie.\n",
        "\n",
        "    corr_matrix_bool: numpy array (2D array)\n",
        "            A square boolean matrix.\n",
        "\n",
        "    false_lst: list (1D array)\n",
        "          A list storing number of False entries in each row of the boolean\n",
        "          correlation matrix.\n",
        "\n",
        "  Output\n",
        "  ------\n",
        "    The remaining matrix (type: pandas DataFrame) after the user with most number of False correlation\n",
        "    coefficient has been eliminated.\n",
        "\n",
        "  Time complexity: Θ(n)\n",
        "  \"\"\"\n",
        "  max_false = 0\n",
        "  max_false_id = 0\n",
        "  n_users_false = len(false_lst)\n",
        "\n",
        "  # find index of the user who has max_false\n",
        "  for i in range(n_users_false):\n",
        "    if max_false < false_lst[i]:\n",
        "      max_false = false_lst[i]\n",
        "      max_false_id = i\n",
        "\n",
        "  # extract index of all current users except the one with most false\n",
        "  n_users = corr_matrix_bool.shape[0]\n",
        "  valid = [r for r in range(n_users) if r != max_false_id]\n",
        "\n",
        "  # select all current users except the one with most False\n",
        "  corr_matrix_bool = corr_matrix_bool[valid][:, valid]\n",
        "  matrix = M.iloc[valid, :]\n",
        "\n",
        "  return corr_matrix_bool, matrix"
      ],
      "metadata": {
        "id": "OAOWUnFTr8Y3",
        "cellView": "form"
      },
      "execution_count": null,
      "outputs": []
    },
    {
      "cell_type": "code",
      "source": [
        "#@title Sub-problem 2\n",
        "def subproblem2(M, delta):\n",
        "  \"\"\"\n",
        "  Input\n",
        "  ------\n",
        "    M : pandas DataFrame (2D array)\n",
        "      A dense matrix (no NaN entry). Each row is an user, each column is a movie.\n",
        "\n",
        "    delta : float\n",
        "      A value between -1 and 1 (inclusive), the minumum correlation coefficient\n",
        "      value.\n",
        "\n",
        "  Output\n",
        "  ------\n",
        "    A submatrix (type: pandas DataFrame) in which all pairwise correlation coefficient\n",
        "    are at least delta.\n",
        "\n",
        "  Time complexity: O(n^3)\n",
        "    Note: The full time complexity of this function is (n^2 x m + n^3), but for this\n",
        "    problem, n is usually larger than m (more users in the database than the number of\n",
        "    movies), that's why we consider n^3 to be the dominant term.\n",
        "\n",
        "  \"\"\"\n",
        "  bool_corr_matrix = corr_coef(M, delta=delta, boolean=True) #O(n^2 x m)\n",
        "  false_lst = count_false(bool_corr_matrix)\n",
        "  status = check_if_valid(false_lst)\n",
        "\n",
        "  # continuously deleting users with the most False in bool_corr_matrix\n",
        "  # stops until bool_corr_matrix contains all True\n",
        "  while not status:  # worst case n\n",
        "    bool_corr_matrix, M = del_max_false(M, bool_corr_matrix, false_lst) # O(n)\n",
        "    false_lst = count_false(bool_corr_matrix) # O(n^2)\n",
        "    status = check_if_valid(false_lst) # O(n)\n",
        "\n",
        "  return M"
      ],
      "metadata": {
        "id": "XU37GwaLvL61",
        "cellView": "form"
      },
      "execution_count": null,
      "outputs": []
    },
    {
      "cell_type": "markdown",
      "source": [
        "### Merged Program"
      ],
      "metadata": {
        "id": "fgCPiNKKkola"
      }
    },
    {
      "cell_type": "code",
      "source": [
        "def movie_suggestion(M, m0, delta, n_iter):\n",
        "  '''\n",
        "  This is the improved program to solve the movie suggestion problem.\n",
        "\n",
        "  Input\n",
        "  ------\n",
        "    M : pandas DataFrame (2D array)\n",
        "      A dense matrix (no NaN entry). Each row is an user, each column is a movie.\n",
        "\n",
        "    m0 :  int\n",
        "      Number of minimum movie each selected user have to watch.\n",
        "\n",
        "    delta : float\n",
        "      A value between -1 and 1 (inclusive), the minumum correlation coefficient\n",
        "      value.\n",
        "\n",
        "    n_iter : int\n",
        "      Number of iterations to run the program. The more iterations, the higher\n",
        "      chance of getting a larger submatrix.\n",
        "\n",
        "  Output\n",
        "  ------\n",
        "    Returns 2 lists that are subsets of rows and columns of the given matrix\n",
        "    that satisfies all constraints of the problem.\n",
        "\n",
        "    Return 2 empty lists if none such subsets found.\n",
        "\n",
        "  Time complexity: O(n_iter x (mxn + n^3)) (Polynomial time)\n",
        "  '''\n",
        "  # Pre-processing\n",
        "  M = user_threshold(M, m0)\n",
        "\n",
        "  # If resulting matrix after preprocessing has less than 2 users,\n",
        "  # tell user to try different input\n",
        "  if M.shape[0] < 2:\n",
        "    print(\"Cannot produce any submatrix. Try another set of input.\")\n",
        "    return ([], [])\n",
        "\n",
        "  # Go! :D\n",
        "  largest_subM = None\n",
        "  largest_size = 0\n",
        "\n",
        "  for iter in range(n_iter):\n",
        "    # getting matrix without NaN value\n",
        "    subM_no_na = subproblem1(M)\n",
        "\n",
        "    # if resulting matrix has more than 1 user, continue with subproblem 2 to\n",
        "    # check corr coef condition\n",
        "    if subM_no_na.shape[0] > 1:\n",
        "      subM_delta = subproblem2(subM_no_na, delta=delta)\n",
        "      current_size = subM_delta.shape[0]*subM_delta.shape[1]\n",
        "\n",
        "      if current_size > largest_size:\n",
        "        largest_size = current_size\n",
        "        largest_subM = subM_delta\n",
        "\n",
        "  # check one last time that resulting submatrix has at least 2 users\n",
        "  if (largest_subM is None) or (largest_subM.shape[0] < 2):\n",
        "    print(\"Cannot produce any submatrix. Try another set of input.\")\n",
        "    return ([], [])\n",
        "  else:\n",
        "    return (largest_subM.index.tolist(), largest_subM.columns.tolist())"
      ],
      "metadata": {
        "id": "7HGZUo97rdCp"
      },
      "execution_count": null,
      "outputs": []
    },
    {
      "cell_type": "code",
      "source": [
        "def run(n_users, n_movies, m0, delta, data=None, density=0.5,\n",
        "        n_iter=1, return_result=False):\n",
        "  '''\n",
        "  Wrapper function for the entire Movie Suggestion problem algorithm. Use this\n",
        "  function when testing the program.\n",
        "\n",
        "  Input\n",
        "  ------\n",
        "    n_users, n_movies: int\n",
        "      the shape of the matrix, n rows x m columns\n",
        "\n",
        "    m0 :  int\n",
        "      Number of minimum movie each selected user have to watch.\n",
        "\n",
        "    delta : float\n",
        "      A value between -1 and 1 (inclusive), the minumum correlation coefficient\n",
        "      value.\n",
        "\n",
        "    data: (optional, default=None) pandas DataFrame\n",
        "      If you want to run this program on your own data, pass the data in pandas\n",
        "      DataFrame type into this function. Otherwise, a random database of specified\n",
        "      density will be generated.\n",
        "\n",
        "    density: (optional, default is 0.5): float\n",
        "      given value must be between 0 and 1 (inclusive). a density of 0.3 means\n",
        "      30% of the matrix is numerical value. a density of 1 means the matrix\n",
        "      has no NaN value\n",
        "\n",
        "    n_iter : int\n",
        "      Number of iterations to run the program. The more iterations, the higher\n",
        "      chance of getting a larger submatrix.\n",
        "\n",
        "    return_result: (optional, default=False) bool\n",
        "      Set to True if you want th final result to be returned. Otherwise nothing\n",
        "      will be returned and the output will be printed to the screen.\n",
        "\n",
        "  Output\n",
        "  ------\n",
        "    Subset of rows and columns will be printed to the screen. If\n",
        "    return_result=True, function will return the final result.\n",
        "  '''\n",
        "  if data is None:\n",
        "    M = generate_with_density(n_users, n_movies, density)\n",
        "  else:\n",
        "    M = data\n",
        "  print(f\"The input matrix M:\\n{M}\\n\")\n",
        "\n",
        "  result = movie_suggestion(M, m0, delta, n_iter)\n",
        "  print(f\"Subset of users: {result[0]}\")\n",
        "  print(f\"Subset of movies: {result[1]}\")\n",
        "\n",
        "  if return_result:\n",
        "    return result"
      ],
      "metadata": {
        "id": "l7V_mEedIMnS"
      },
      "execution_count": null,
      "outputs": []
    },
    {
      "cell_type": "markdown",
      "source": [
        "## Testing"
      ],
      "metadata": {
        "id": "HBRr3nw5wKbU"
      }
    },
    {
      "cell_type": "code",
      "source": [
        "#1 Test with no submatrix can be returned\n",
        "M = generate_with_density(n_users=2, n_movies=2, density=0)\n",
        "M = pd.DataFrame(M)\n",
        "\n",
        "run(n_users=2, n_movies=2, m0=3, delta=0.01, data=M, density=0,\n",
        "    n_iter=1, return_result=False)"
      ],
      "metadata": {
        "colab": {
          "base_uri": "https://localhost:8080/"
        },
        "id": "40yXPg-qwNFE",
        "outputId": "56b837b4-d15c-4ac8-bd62-a500f85700c6"
      },
      "execution_count": null,
      "outputs": [
        {
          "output_type": "stream",
          "name": "stdout",
          "text": [
            "The input matrix M:\n",
            "   movie 0  movie 1\n",
            "0      NaN      NaN\n",
            "1      NaN      NaN\n",
            "\n",
            "Cannot produce any submatrix. Try another set of input.\n",
            "Subset of users: []\n",
            "Subset of movies: []\n"
          ]
        }
      ]
    },
    {
      "cell_type": "code",
      "source": [
        "#2 Test with no submatrix can be returned\n",
        "M = np.array([[1,2],\n",
        "              [3, np.nan]])\n",
        "M = pd.DataFrame(M)\n",
        "\n",
        "run(n_users=2, n_movies=2, m0=2, delta=0.01, data=M, density=0,\n",
        "    n_iter=20, return_result=False)"
      ],
      "metadata": {
        "colab": {
          "base_uri": "https://localhost:8080/"
        },
        "id": "65rJJQVA9dMd",
        "outputId": "6dbe0846-a4b8-442a-f58d-33e0d9b4e662"
      },
      "execution_count": null,
      "outputs": [
        {
          "output_type": "stream",
          "name": "stdout",
          "text": [
            "The input matrix M:\n",
            "     0    1\n",
            "0  1.0  2.0\n",
            "1  3.0  NaN\n",
            "\n",
            "Cannot produce any submatrix. Try another set of input.\n",
            "Subset of users: []\n",
            "Subset of movies: []\n"
          ]
        }
      ]
    },
    {
      "cell_type": "code",
      "source": [
        "#3 Test with size=100x30 and density=0.9, number of iterations=300\n",
        "run(n_users=100, n_movies=30, m0=5, delta=0.01, data=None,\n",
        "    density=0.9, n_iter=300, return_result=False)"
      ],
      "metadata": {
        "colab": {
          "base_uri": "https://localhost:8080/"
        },
        "id": "OwsXKuMY_j-j",
        "outputId": "fa1b057d-7c32-4156-9f0c-9cfcfe7dfb0e"
      },
      "execution_count": null,
      "outputs": [
        {
          "output_type": "stream",
          "name": "stdout",
          "text": [
            "The input matrix M:\n",
            "    movie 0  movie 1  movie 2  movie 3  movie 4  movie 5  movie 6  movie 7  \\\n",
            "0       6.0      NaN      NaN      NaN      4.0      7.0      9.0      9.0   \n",
            "1       1.0      1.0      1.0      3.0      NaN      1.0      NaN      1.0   \n",
            "2       NaN      3.0      9.0      NaN     10.0      NaN      NaN      NaN   \n",
            "3       8.0      4.0      7.0      NaN     10.0      3.0      NaN      3.0   \n",
            "4      10.0      NaN      9.0     10.0      3.0      4.0      NaN      9.0   \n",
            "..      ...      ...      ...      ...      ...      ...      ...      ...   \n",
            "95      NaN      7.0      2.0      2.0      NaN      NaN      3.0      4.0   \n",
            "96      NaN      7.0      7.0      4.0      8.0      NaN      8.0      3.0   \n",
            "97      NaN      6.0      NaN      4.0      1.0      NaN      NaN      NaN   \n",
            "98      NaN      3.0      3.0      3.0      4.0      4.0      NaN      3.0   \n",
            "99      3.0      NaN      2.0      6.0      7.0      1.0      NaN      1.0   \n",
            "\n",
            "    movie 8  movie 9  ...  movie 20  movie 21  movie 22  movie 23  movie 24  \\\n",
            "0      10.0      NaN  ...       NaN       4.0       NaN       NaN       NaN   \n",
            "1       NaN      9.0  ...       1.0       5.0       5.0      10.0       1.0   \n",
            "2       4.0      3.0  ...      10.0       7.0       3.0       3.0       NaN   \n",
            "3       8.0      7.0  ...       3.0       NaN      10.0       NaN       8.0   \n",
            "4       NaN      NaN  ...       NaN       1.0       6.0       NaN       NaN   \n",
            "..      ...      ...  ...       ...       ...       ...       ...       ...   \n",
            "95      NaN      NaN  ...       NaN       8.0       NaN       NaN       NaN   \n",
            "96      NaN      2.0  ...       2.0       NaN       4.0       4.0       NaN   \n",
            "97      6.0      7.0  ...       NaN       NaN       NaN       NaN       8.0   \n",
            "98      9.0      NaN  ...       NaN       4.0       NaN       6.0       NaN   \n",
            "99      5.0      6.0  ...       NaN       6.0       NaN       9.0       NaN   \n",
            "\n",
            "    movie 25  movie 26  movie 27  movie 28  movie 29  \n",
            "0        NaN       8.0       3.0       NaN       NaN  \n",
            "1        NaN       NaN       NaN       2.0       9.0  \n",
            "2        NaN       8.0       6.0       NaN       NaN  \n",
            "3       10.0       8.0       7.0       NaN       5.0  \n",
            "4        7.0       NaN       NaN       5.0       NaN  \n",
            "..       ...       ...       ...       ...       ...  \n",
            "95       NaN       NaN       4.0       8.0       5.0  \n",
            "96       2.0       8.0       NaN       NaN      10.0  \n",
            "97       NaN       NaN       7.0       8.0      10.0  \n",
            "98       8.0       6.0       6.0       NaN       6.0  \n",
            "99       NaN       NaN       NaN       NaN       3.0  \n",
            "\n",
            "[100 rows x 30 columns]\n",
            "\n",
            "Cannot produce any submatrix. Try another set of input.\n",
            "Subset of users: []\n",
            "Subset of movies: []\n"
          ]
        }
      ]
    },
    {
      "cell_type": "code",
      "source": [
        "#5 Test with size=3000x1000 and density=0.5, number of iterations=300\n",
        "run(n_users=3000, n_movies=1000, m0=5, delta=0.01, data=None,\n",
        "    density=0.5, n_iter=30, return_result=False)"
      ],
      "metadata": {
        "colab": {
          "base_uri": "https://localhost:8080/"
        },
        "id": "gmW9e4C8CQvH",
        "outputId": "29ba49f6-cadb-4585-a93c-1adce53ce501"
      },
      "execution_count": null,
      "outputs": [
        {
          "output_type": "stream",
          "name": "stdout",
          "text": [
            "The input matrix M:\n",
            "      movie 0  movie 1  movie 2  movie 3  movie 4  movie 5  movie 6  movie 7  \\\n",
            "0         NaN      NaN      4.0      NaN      4.0      NaN      NaN      NaN   \n",
            "1         NaN      NaN      NaN      2.0      NaN      NaN      NaN      4.0   \n",
            "2         NaN      1.0      8.0      NaN      1.0      NaN      NaN      NaN   \n",
            "3         6.0      NaN      8.0      NaN     10.0      NaN      NaN      4.0   \n",
            "4         NaN      6.0      NaN      NaN      NaN      NaN      NaN      1.0   \n",
            "...       ...      ...      ...      ...      ...      ...      ...      ...   \n",
            "2995      NaN      NaN      NaN      NaN      NaN      NaN      2.0      1.0   \n",
            "2996      7.0     10.0      8.0      NaN      NaN      NaN      NaN      3.0   \n",
            "2997      NaN      NaN      NaN      4.0      NaN     10.0      NaN      5.0   \n",
            "2998      3.0      NaN      NaN      NaN      NaN      7.0      9.0      NaN   \n",
            "2999      NaN      NaN      1.0      NaN      NaN     10.0      NaN      5.0   \n",
            "\n",
            "      movie 8  movie 9  ...  movie 990  movie 991  movie 992  movie 993  \\\n",
            "0         NaN      6.0  ...       10.0        NaN        NaN        NaN   \n",
            "1         NaN      1.0  ...        1.0        NaN        3.0        NaN   \n",
            "2         9.0      NaN  ...        NaN        9.0        NaN        NaN   \n",
            "3         NaN      NaN  ...       10.0        6.0        9.0        NaN   \n",
            "4         8.0      5.0  ...        NaN        7.0        NaN        NaN   \n",
            "...       ...      ...  ...        ...        ...        ...        ...   \n",
            "2995      NaN      2.0  ...        NaN        NaN        3.0        7.0   \n",
            "2996     10.0      8.0  ...        NaN        NaN        NaN        1.0   \n",
            "2997      NaN      5.0  ...        NaN        4.0        7.0        6.0   \n",
            "2998      NaN      3.0  ...        3.0        NaN        7.0        4.0   \n",
            "2999      NaN      NaN  ...        NaN        9.0        NaN        NaN   \n",
            "\n",
            "      movie 994  movie 995  movie 996  movie 997  movie 998  movie 999  \n",
            "0           8.0        NaN        2.0        NaN        3.0        NaN  \n",
            "1           NaN        4.0        NaN        7.0        5.0        5.0  \n",
            "2           7.0        9.0        NaN        NaN        NaN        NaN  \n",
            "3           NaN        NaN        5.0        NaN        NaN        NaN  \n",
            "4           2.0        4.0        NaN        NaN        5.0        NaN  \n",
            "...         ...        ...        ...        ...        ...        ...  \n",
            "2995        NaN        8.0        NaN        NaN        NaN        NaN  \n",
            "2996        NaN        NaN        NaN        5.0        NaN        7.0  \n",
            "2997        2.0        NaN        4.0        1.0        NaN        3.0  \n",
            "2998        NaN        NaN        NaN        7.0        9.0        NaN  \n",
            "2999        2.0        NaN        NaN        5.0        7.0        7.0  \n",
            "\n",
            "[3000 rows x 1000 columns]\n",
            "\n",
            "Cannot produce any submatrix. Try another set of input.\n",
            "Subset of users: []\n",
            "Subset of movies: []\n"
          ]
        }
      ]
    },
    {
      "cell_type": "code",
      "source": [
        "run(n_users=10, n_movies=5, m0=3, delta=0.01, data=None, density=1,\n",
        "    n_iter=10, return_result=False)"
      ],
      "metadata": {
        "colab": {
          "base_uri": "https://localhost:8080/"
        },
        "id": "7RinauKDVl_Z",
        "outputId": "4deff5e7-c970-4be7-8a20-e4ae50ff73a3"
      },
      "execution_count": null,
      "outputs": [
        {
          "output_type": "stream",
          "name": "stdout",
          "text": [
            "The input matrix M:\n",
            "   movie 0  movie 1  movie 2  movie 3  movie 4\n",
            "0      8.0      9.0      6.0      NaN      NaN\n",
            "1      NaN      NaN      NaN      NaN     10.0\n",
            "2      NaN      9.0      2.0      1.0      2.0\n",
            "3      6.0     10.0      5.0      5.0      NaN\n",
            "4      4.0      NaN      6.0      5.0      6.0\n",
            "5      NaN      5.0      1.0      2.0      NaN\n",
            "6      3.0      6.0      5.0      NaN      3.0\n",
            "7      NaN      NaN      NaN      1.0      3.0\n",
            "8      5.0      4.0      NaN      5.0      4.0\n",
            "9      8.0      NaN      NaN     10.0      NaN\n",
            "\n",
            "Subset of users: [2, 3, 5]\n",
            "Subset of movies: ['movie 1', 'movie 2', 'movie 3']\n"
          ]
        }
      ]
    }
  ]
}