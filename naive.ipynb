{
  "cells": [
    {
      "cell_type": "code",
      "execution_count": null,
      "metadata": {
        "cellView": "form",
        "id": "WFsHU-IFaQ0V"
      },
      "outputs": [],
      "source": [
        "#@title import packages\n",
        "\n",
        "import pandas as pd\n",
        "import numpy as np\n",
        "import random"
      ]
    },
    {
      "cell_type": "code",
      "execution_count": null,
      "metadata": {
        "cellView": "form",
        "id": "I035HcmhaSkD"
      },
      "outputs": [],
      "source": [
        "#@title generate test cases\n",
        "def generate_data(n_users:int, n_movies:int):\n",
        "  \"\"\"\n",
        "  To generate data for a test case for the Movie Suggestion problem\n",
        "  Input:\n",
        "  - n_movies: int, the number of movies\n",
        "  - n_users: int, the number of users\n",
        "\n",
        "  Return:\n",
        "  - A m x n matrix where m is the number of users (n_users)\n",
        "  and n is the number of movies (n_movies).\n",
        "\n",
        "  Note:\n",
        "  - Each entry r_ij is the rating of the user i for the movie j.\n",
        "  - All ratings are in the range (1, 10) or NA (if the user has not\n",
        "  watched this movie).\n",
        "  \"\"\"\n",
        "  if not isinstance(n_users, int):\n",
        "    raise TypeError(\"The input for n_users must be an integer\")\n",
        "  if not isinstance(n_movies, int):\n",
        "    raise TypeError(\"The input for n_movies must be an integer\")\n",
        "\n",
        "  M = np.empty([n_users, n_movies])\n",
        "  all_ratings = [np.nan, *range(1,11)]\n",
        "\n",
        "  for user in range(n_users): # for each row\n",
        "    for movie in range(n_movies): # for each col\n",
        "      M[user][movie] = random.choice(all_ratings)\n",
        "\n",
        "  return M"
      ]
    },
    {
      "cell_type": "code",
      "execution_count": null,
      "metadata": {
        "colab": {
          "base_uri": "https://localhost:8080/"
        },
        "id": "FyUyoBi-7GPP",
        "outputId": "0e340290-c3ad-4638-fe8f-97653bb7422d"
      },
      "outputs": [
        {
          "data": {
            "text/plain": [
              "array([[ 7.,  2.,  7.,  3.,  1.,  1.,  8., nan,  7.,  9.],\n",
              "       [10.,  8., nan, nan,  5.,  4.,  1., nan,  5.,  5.],\n",
              "       [ 5., nan,  7., nan,  9.,  9.,  7., 10.,  1.,  3.],\n",
              "       [ 4., 10., 10.,  6.,  4.,  1.,  7.,  9., 10.,  3.],\n",
              "       [ 5.,  7.,  5.,  4.,  1.,  8.,  9.,  4.,  2., 10.],\n",
              "       [ 6.,  4.,  5.,  9.,  4.,  1., nan, 10.,  1.,  8.],\n",
              "       [ 7., 10.,  3.,  1.,  7.,  9.,  7.,  8., 10.,  1.],\n",
              "       [ 9.,  5.,  8.,  5.,  7.,  8.,  3.,  2.,  2.,  6.],\n",
              "       [ 5.,  9.,  2., nan,  2.,  1.,  6.,  3.,  5.,  8.],\n",
              "       [ 1.,  1.,  7.,  2.,  1.,  7.,  1.,  9.,  4.,  2.]])"
            ]
          },
          "execution_count": 118,
          "metadata": {},
          "output_type": "execute_result"
        }
      ],
      "source": [
        "test_matrix = generate_data(n_users=10, n_movies=10)\n",
        "test_matrix"
      ]
    },
    {
      "cell_type": "code",
      "execution_count": null,
      "metadata": {
        "cellView": "form",
        "id": "iON9T2PQhpkx"
      },
      "outputs": [],
      "source": [
        "#@title generate subset of given size\n",
        "\n",
        "def get_subsets(arr):\n",
        "  '''\n",
        "  This function generates all subsets of a given array.\n",
        "  Helper function to get_subset_of_size().\n",
        "\n",
        "  Input:\n",
        "    arr:  input array to generate subsets from\n",
        "\n",
        "  Output:\n",
        "    an array of all subsets\n",
        "  '''\n",
        "  if arr == []: return [[]]\n",
        "  subarray = get_subsets(arr[1:])\n",
        "  return [[arr[0]] + i for i in subarray] + subarray\n",
        "\n",
        "# wrapper function of get_subset()\n",
        "def get_subset_of_size(arr, k):\n",
        "  '''\n",
        "  This function generates all subsets of a given size of an input array.\n",
        "\n",
        "  Input:\n",
        "    arr:  input array to generate subsets from\n",
        "    k:    the size of the subsets\n",
        "\n",
        "  Output:\n",
        "    an array of all subsets of given size\n",
        "  '''\n",
        "  return [x for x in get_subsets(arr) if len(x)==k]"
      ]
    },
    {
      "cell_type": "code",
      "execution_count": null,
      "metadata": {
        "cellView": "form",
        "id": "Zo7W8xlD_vsE"
      },
      "outputs": [],
      "source": [
        "#@title checking pairwise correlation\n",
        "def check_correlation(matrix, sigma):\n",
        "  '''\n",
        "  This function checks if any pairwise correlation coefficient is below a\n",
        "  given threshold.\n",
        "\n",
        "  If input matrix contains np.nan values, the nan will be ignored, potentially\n",
        "  resulting in inaccurate correlation coefficients.\n",
        "\n",
        "  Input:\n",
        "    matrix: input matrix with no np.nan value\n",
        "\n",
        "  Output:\n",
        "    True if no pairwise correlation coefficient of given matrix is below sigma.\n",
        "    False if otherwise.\n",
        "  '''\n",
        "  corr_matrix = pd.DataFrame(matrix).T.corr().to_numpy()\n",
        "  bool_matrix = corr_matrix >= sigma\n",
        "  valid = bool_matrix.all()\n",
        "  return valid"
      ]
    },
    {
      "cell_type": "code",
      "execution_count": null,
      "metadata": {
        "cellView": "form",
        "id": "uNdCVsjev_-Z"
      },
      "outputs": [],
      "source": [
        "#@title Main naive algorithm\n",
        "def naive_movie_suggestion(matrix, m0, sig):\n",
        "  '''\n",
        "  This is the naive approach to solve movie recommendation problem.\n",
        "\n",
        "  Input:\n",
        "    matrix: input matrix with rows representing users ratings, and columns\n",
        "            representing movies\n",
        "    m0:     minimum number of movies, default m0=1\n",
        "    sig:    minimum pairwise correlation coefficient value (Pearson method),\n",
        "            default sig=0\n",
        "\n",
        "  Output:\n",
        "    the maximum ixj submatrix with at least m0 columns and pairwise row\n",
        "    correlation coefficient at least sig. if no such submatrix, return [].\n",
        "  '''\n",
        "  n_users = len(matrix)\n",
        "  n_movies = len(matrix[0])\n",
        "  column_idx = [*range(n_movies)]\n",
        "  row_idx = [*range(n_users)]\n",
        "\n",
        "  # getting all submatrix, number of columns at least m0, number of rows at least 2\n",
        "  subm_nan = []\n",
        "  for col_size in range(m0, n_movies+1):\n",
        "    col_ss = get_subset_of_size(column_idx, col_size)\n",
        "\n",
        "    for col_combo in col_ss:\n",
        "      current1 = matrix[:, col_combo].copy()\n",
        "\n",
        "      for row_size in range(2, n_users+1):\n",
        "        row_ss = get_subset_of_size(row_idx, row_size)\n",
        "\n",
        "        for row_combo in row_ss:\n",
        "          current2 = current1[row_combo, :].copy()\n",
        "          subm_nan.append(current2)\n",
        "\n",
        "  # dropping all submatrices with nan values\n",
        "  subm_dropnan = []\n",
        "  for subm in subm_nan:\n",
        "    nan_is_here = np.isnan(subm).any()\n",
        "    if not nan_is_here:\n",
        "      subm_dropnan.append(subm)\n",
        "\n",
        "  del subm_nan # freeing memory\n",
        "\n",
        "  # checking if any submatrix has corr-coef below sigma, remove that submatrix\n",
        "  # after this, row_submatrix only contains no-nan submatrices that meet the\n",
        "  # corr_coef threshold\n",
        "  subm_corr = []\n",
        "  for subm in subm_dropnan:\n",
        "    row_correlate = check_correlation(subm, sig)\n",
        "    if (row_correlate):\n",
        "      subm_corr.append(subm)\n",
        "\n",
        "  del subm_dropnan #freeing memory\n",
        "\n",
        "  #pick the submatrix with largest size in row_submatrix\n",
        "  largest = []\n",
        "  max_size = 0\n",
        "  for subm in subm_corr:\n",
        "    current_size = np.prod(subm.shape)\n",
        "    if current_size > max_size:\n",
        "      max_size = current_size\n",
        "      largest = subm\n",
        "\n",
        "  return max_size, largest"
      ]
    },
    {
      "cell_type": "code",
      "execution_count": null,
      "metadata": {
        "colab": {
          "base_uri": "https://localhost:8080/"
        },
        "id": "ARyj-aYB6lCx",
        "outputId": "c57bbc85-ce58-4a00-f28a-5f1a8d1cb0cf"
      },
      "outputs": [
        {
          "data": {
            "text/plain": [
              "(30, array([[ 4., 10., 10.,  6.,  4.,  1.,  7.,  9., 10.,  3.],\n",
              "        [ 7., 10.,  3.,  1.,  7.,  9.,  7.,  8., 10.,  1.],\n",
              "        [ 1.,  1.,  7.,  2.,  1.,  7.,  1.,  9.,  4.,  2.]]))"
            ]
          },
          "execution_count": 119,
          "metadata": {},
          "output_type": "execute_result"
        }
      ],
      "source": [
        "naive_movie_suggestion(test_matrix, 1, 0)"
      ]
    }
  ],
  "metadata": {
    "colab": {
      "provenance": []
    },
    "kernelspec": {
      "display_name": "Python 3",
      "name": "python3"
    },
    "language_info": {
      "name": "python"
    }
  },
  "nbformat": 4,
  "nbformat_minor": 0
}
