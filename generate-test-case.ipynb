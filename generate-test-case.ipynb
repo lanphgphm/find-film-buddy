{
  "nbformat": 4,
  "nbformat_minor": 0,
  "metadata": {
    "colab": {
      "provenance": []
    },
    "kernelspec": {
      "name": "python3",
      "display_name": "Python 3"
    },
    "language_info": {
      "name": "python"
    }
  },
  "cells": [
    {
      "cell_type": "code",
      "execution_count": null,
      "metadata": {
        "id": "WFsHU-IFaQ0V"
      },
      "outputs": [],
      "source": [
        "import pandas as pd\n",
        "import numpy as np\n",
        "import random"
      ]
    },
    {
      "cell_type": "markdown",
      "source": [
        "### Absolutely random\n",
        "Good for generating dense matrix"
      ],
      "metadata": {
        "id": "fsKs6qUmM6yb"
      }
    },
    {
      "cell_type": "code",
      "source": [
        "def generate_data(n_users:int, n_movies:int, nan=True):\n",
        "  \"\"\"\n",
        "  To generate data for a test case for the Movie Suggestion problem.\n",
        "\n",
        "  Input:\n",
        "    n_movies: int, the number of movies\n",
        "    n_users: int, the number of users\n",
        "\n",
        "  Return:\n",
        "    A m x n matrix where m is the number of users (n_users)\n",
        "    and n is the number of movies (n_movies).\n",
        "\n",
        "  Note:\n",
        "    Each entry r_ij is the rating of the user i for the movie j.\n",
        "    All ratings are in the range (1, 10) or NA (if the user has not\n",
        "    watched this movie).\n",
        "  \"\"\"\n",
        "  if not isinstance(n_users, int):\n",
        "    raise TypeError(\"The input for n_users must be an integer\")\n",
        "  if not isinstance(n_movies, int):\n",
        "    raise TypeError(\"The input for n_movies must be an integer\")\n",
        "\n",
        "  M = np.empty([n_users, n_movies])\n",
        "  all_ratings = None\n",
        "\n",
        "  if (nan):\n",
        "    all_ratings = [np.nan, *range(1,11)]\n",
        "  else:\n",
        "    all_ratings = [*range(1,11)]\n",
        "\n",
        "  for user in range(n_users): # for each row\n",
        "    for movie in range(n_movies): # for each col\n",
        "      M[user][movie] = random.choice(all_ratings)\n",
        "\n",
        "  return M\n"
      ],
      "metadata": {
        "id": "I035HcmhaSkD"
      },
      "execution_count": null,
      "outputs": []
    },
    {
      "cell_type": "code",
      "source": [
        "generate_data(7, 5, False)"
      ],
      "metadata": {
        "colab": {
          "base_uri": "https://localhost:8080/"
        },
        "id": "Pe3tBcrk031z",
        "outputId": "3f1381c4-52dc-4b8a-cecc-304383126474"
      },
      "execution_count": null,
      "outputs": [
        {
          "output_type": "execute_result",
          "data": {
            "text/plain": [
              "array([[ 2.,  2.,  9.,  1.,  6.],\n",
              "       [ 2.,  7.,  8.,  6.,  1.],\n",
              "       [ 5., 10.,  2.,  2.,  6.],\n",
              "       [ 3.,  2.,  5.,  8.,  1.],\n",
              "       [ 9.,  9.,  4.,  9.,  2.],\n",
              "       [10.,  3.,  9.,  1.,  6.],\n",
              "       [ 4., 10.,  2.,  8., 10.]])"
            ]
          },
          "metadata": {},
          "execution_count": 18
        }
      ]
    },
    {
      "cell_type": "markdown",
      "source": [
        "### Generate matrix with specific density\n",
        "Good for generating sparse matrix. Using this function to generate dense matrix is really time costly."
      ],
      "metadata": {
        "id": "0us7Vi91e1wz"
      }
    },
    {
      "cell_type": "code",
      "source": [
        "def generate_with_density(n_users: int, n_movies: int, density=0.5):\n",
        "  '''\n",
        "  This function generates matrices of given shape and density. The density is\n",
        "  not exact, but close to the desired level. Output matrix is roughy as dense\n",
        "  as we want it to be.\n",
        "\n",
        "  A matrix with density of 30% means there are 30% actual numerical entries,\n",
        "  and 70% are NaN values.\n",
        "\n",
        "  Input:\n",
        "    n_users, n_movies: int\n",
        "      the shape of the matrix, n rows x m columns\n",
        "\n",
        "    density (optional, default is 0.5): float\n",
        "      given value must be between 0 and 1 (inclusive). a density of 0.3 means\n",
        "      ~ 30% of the matrix is numerical value. a density of 1 means the matrix\n",
        "      has nearly no NaN value.\n",
        "\n",
        "  Output:\n",
        "    A matrix of size (n_users x n_movies) with density roughly the same as\n",
        "    specified value\n",
        "\n",
        "    The actual density of output matrix isd also returned.\n",
        "  '''\n",
        "  if (density < 0) or (density > 1):\n",
        "    raise TypeError(\"Density must be a floating point value from 0 to 1 (inclusive)\")\n",
        "\n",
        "  # number of non-NaN values\n",
        "  number_entry = int(round(density * n_users * n_movies))\n",
        "\n",
        "  # generate a full nan matrix & convert to numpy array\n",
        "  M = []\n",
        "  nan_array = [np.nan] * n_movies\n",
        "  for i in range(n_users):\n",
        "    M.append(nan_array)\n",
        "  matrix = np.asarray(M)\n",
        "\n",
        "  # getting random entry index & replace it with numerical value\n",
        "  row_idx = [*range(n_users)]\n",
        "  col_idx = [*range(n_movies)]\n",
        "  ratings = [*range(1,11)]\n",
        "  for i in range(number_entry):\n",
        "    rand_row = random.choice(row_idx)\n",
        "    rand_col = random.choice(col_idx)\n",
        "    matrix[rand_row, rand_col] = random.choice(ratings)\n",
        "\n",
        "  # counting numerical entries to calculate output matrix density\n",
        "  num_number = 0\n",
        "  for i in range(n_users):\n",
        "    for j in range(n_movies):\n",
        "      if (matrix[i, j] >= 0) | (matrix[i, j] <= 10) :\n",
        "        num_number += 1\n",
        "  actual_density = round(num_number/(n_users * n_movies), 3)\n",
        "\n",
        "  return matrix, actual_density"
      ],
      "metadata": {
        "id": "lXenERuKAYub"
      },
      "execution_count": null,
      "outputs": []
    }
  ]
}